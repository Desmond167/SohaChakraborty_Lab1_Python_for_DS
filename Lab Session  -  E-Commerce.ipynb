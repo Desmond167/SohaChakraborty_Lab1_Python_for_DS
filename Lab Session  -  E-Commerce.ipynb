{
 "cells": [
  {
   "cell_type": "markdown",
   "metadata": {
    "id": "2c8f47d3"
   },
   "source": [
    "# Lab Session"
   ]
  },
  {
   "cell_type": "markdown",
   "metadata": {
    "id": "f637aba6"
   },
   "source": [
    "## <font color='blue'> Table Of Contents </font>\n",
    "- Problem Statement \n",
    "- Load required libraries\n",
    "- Connect to DB using mysql-connector-python package\n",
    "- Create database named `e_commerce`\n",
    "- Create tables and insert data into tables as specified in the question\n",
    "- Read all the questions and write sql queries to meet the objective "
   ]
  },
  {
   "cell_type": "markdown",
   "metadata": {
    "id": "1073fc90"
   },
   "source": [
    "## <font color='blue'> Problem Statement </font>\n",
    "###  An E-commerce website manages its data in the form of various tables.\n",
    "You need to create a Database called `e_commerce` and various tables in it. The tables needed and attributes which need to be in every table are given before hand. All you have to do is create tables with data in it and answer some of the questions that follows."
   ]
  },
  {
   "cell_type": "markdown",
   "metadata": {
    "id": "48787355"
   },
   "source": [
    "### e_commerce Schema:"
   ]
  },
  {
   "cell_type": "markdown",
   "metadata": {
    "id": "78938fbc"
   },
   "source": [
    "![e_commerce%20_schema.png](attachment:e_commerce%20_schema.png)"
   ]
  },
  {
   "cell_type": "markdown",
   "metadata": {
    "id": "d9abe6c7"
   },
   "source": [
    "### Load Required Libraries"
   ]
  },
  {
   "cell_type": "code",
   "execution_count": 1,
   "metadata": {
    "id": "0178d08e"
   },
   "outputs": [],
   "source": [
    "import mysql.connector"
   ]
  },
  {
   "cell_type": "markdown",
   "metadata": {
    "id": "d7d7fd5c"
   },
   "source": [
    "### Connect to DB using Mysql-connector-python package"
   ]
  },
  {
   "cell_type": "code",
   "execution_count": 2,
   "metadata": {
    "id": "ef7bef72"
   },
   "outputs": [
    {
     "name": "stdout",
     "output_type": "stream",
     "text": [
      "Succesfully connected to DB=<mysql.connector.connection_cext.CMySQLConnection object at 0x000001C48F1B4208>\n"
     ]
    }
   ],
   "source": [
    "try:\n",
    "    mydb = mysql.connector.connect(\n",
    "      host=\"localhost\",\n",
    "      user=\"root\",\n",
    "      password=\"Soham167\"\n",
    "    )\n",
    "    \n",
    "    print(f'Succesfully connected to DB={mydb}')\n",
    "except:\n",
    "    print('Failed to connect to DB')"
   ]
  },
  {
   "cell_type": "markdown",
   "metadata": {
    "id": "9d55e510"
   },
   "source": [
    "### You are required to create a database named 'e_commerce'"
   ]
  },
  {
   "cell_type": "code",
   "execution_count": 3,
   "metadata": {
    "id": "42a154f2"
   },
   "outputs": [],
   "source": [
    "mycursor = mydb.cursor()\n",
    "\n",
    "mycursor.execute(\"CREATE DATABASE e_commerce\")"
   ]
  },
  {
   "cell_type": "markdown",
   "metadata": {
    "id": "480dc986"
   },
   "source": [
    "### Q1. Create tables for supplier, customer, category, product, productDetails, order, rating to store the data for the E-commerce with the schema definition given below.\n",
    "\n",
    "\n",
    "- **`supplier`**(SUPP_ID int primary key, SUPP_NAME varchar(50), SUPP_CITY varchar(50), SUPP_PHONE varchar(10))\n",
    "\n",
    "\n",
    "- **`customer`** (CUS_ID INT NOT NULL, CUS_NAME VARCHAR(20) NULL DEFAULT NULL, CUS_PHONE VARCHAR(10), CUS_CITY varchar(30) ,CUS_GENDER CHAR,PRIMARY KEY (CUS_ID))\n",
    "\n",
    "\n",
    "- **`category`** (CAT_ID INT NOT NULL, CAT_NAME VARCHAR(20) NULL DEFAULT NULL,PRIMARY KEY (CAT_ID))\n",
    "\n",
    "\n",
    "- **`product`** (PRO_ID INT NOT NULL, PRO_NAME VARCHAR(20) NULL DEFAULT NULL, PRO_DESC VARCHAR(60) NULL DEFAULT NULL, CAT_ID INT NOT NULL,PRIMARY KEY (PRO_ID),FOREIGN KEY (CAT_ID) REFERENCES CATEGORY (CAT_ID))\n",
    "\n",
    "\n",
    "- **`product_details`** (PROD_ID INT NOT NULL, PRO_ID INT NOT NULL, SUPP_ID INT NOT NULL, PROD_PRICE INT NOT NULL,\n",
    "  PRIMARY KEY (PROD_ID),FOREIGN KEY (PRO_ID) REFERENCES PRODUCT (PRO_ID), FOREIGN KEY (SUPP_ID) REFERENCES SUPPLIER(SUPP_ID))\n",
    "  \n",
    "  \n",
    "- **`order`** (ORD_ID INT NOT NULL, ORD_AMOUNT INT NOT NULL, ORD_DATE DATE, CUS_ID INT NOT NULL, PROD_ID INT NOT NULL,PRIMARY KEY (ORD_ID),FOREIGN KEY (CUS_ID) REFERENCES CUSTOMER(CUS_ID),FOREIGN KEY (PROD_ID) REFERENCES PRODUCT_DETAILS(PROD_ID))\n",
    "\n",
    "\n",
    "- **`rating`** (RAT_ID INT NOT NULL, CUS_ID INT NOT NULL, SUPP_ID INT NOT NULL, RAT_RATSTARS INT NOT NULL,PRIMARY KEY (RAT_ID),FOREIGN KEY (SUPP_ID) REFERENCES SUPPLIER (SUPP_ID),FOREIGN KEY (CUS_ID) REFERENCES CUSTOMER(CUS_ID))"
   ]
  },
  {
   "cell_type": "code",
   "execution_count": 4,
   "metadata": {
    "id": "967b718f"
   },
   "outputs": [],
   "source": [
    "mydb = mysql.connector.connect(\n",
    "      host=\"localhost\",\n",
    "      user=\"root\",\n",
    "      password=\"Soham167\",\n",
    "      database=\"e_commerce\"\n",
    "    )\n",
    "\n",
    "mycursor = mydb.cursor(buffered=True)\n",
    "\n",
    "mycursor.execute(\"CREATE TABLE supplier (SUPP_ID int, SUPP_NAME varchar(50), SUPP_CITY varchar(50), SUPP_PHONE varchar(10), PRIMARY KEY (SUPP_ID))\")\n",
    "mycursor.execute(\"CREATE TABLE customer (CUS_ID INT NOT NULL, CUS_NAME VARCHAR(20) NULL DEFAULT NULL, CUS_PHONE VARCHAR(10), CUS_CITY varchar(30), CUS_GENDER CHAR, PRIMARY KEY (CUS_ID))\")\n",
    "mycursor.execute(\"CREATE TABLE category (CAT_ID INT NOT NULL, CAT_NAME VARCHAR(20) NULL DEFAULT NULL,PRIMARY KEY (CAT_ID))\")\n",
    "mycursor.execute(\"CREATE TABLE product (PRO_ID INT NOT NULL, PRO_NAME VARCHAR(20) NULL DEFAULT NULL, PRO_DESC VARCHAR(60) NULL DEFAULT NULL, CAT_ID INT NOT NULL, PRIMARY KEY (PRO_ID), FOREIGN KEY (CAT_ID) REFERENCES CATEGORY (CAT_ID))\")\n",
    "mycursor.execute(\"CREATE TABLE product_details (PROD_ID INT NOT NULL, PRO_ID INT NOT NULL, SUPP_ID INT NOT NULL, PROD_PRICE INT NOT NULL, PRIMARY KEY (PROD_ID),FOREIGN KEY (PRO_ID) REFERENCES PRODUCT (PRO_ID), FOREIGN KEY (SUPP_ID) REFERENCES SUPPLIER(SUPP_ID))\")\n",
    "mycursor.execute(\"CREATE TABLE `order` (`ORD_ID` INT NOT NULL, `ORD_AMOUNT` INT NOT NULL, `ORD_DATE` DATE, `CUS_ID` INT NOT NULL, `PROD_ID` INT NOT NULL,PRIMARY KEY (`ORD_ID`),FOREIGN KEY (`CUS_ID`) REFERENCES CUSTOMER(CUS_ID),FOREIGN KEY (`PROD_ID`) REFERENCES PRODUCT_DETAILS(PROD_ID))\")\n",
    "mycursor.execute(\"CREATE TABLE rating (RAT_ID INT NOT NULL, CUS_ID INT NOT NULL, SUPP_ID INT NOT NULL, RAT_RATSTARS INT NOT NULL,PRIMARY KEY (RAT_ID),FOREIGN KEY (SUPP_ID) REFERENCES SUPPLIER (SUPP_ID),FOREIGN KEY (CUS_ID) REFERENCES CUSTOMER(CUS_ID))\")"
   ]
  },
  {
   "cell_type": "markdown",
   "metadata": {
    "id": "1f653731"
   },
   "source": [
    "### Q2. Insert the following data in the table created above\n",
    "#### `Note:` If you are getting any error while inserting the data into tables, Kindly close the connection and reconnect\n",
    "\n",
    "#### Table:  supplier\n",
    "| SUPP_ID | SUPP_NAME | SUPP_CITY | SUPP_PHONE |\n",
    "| --- | --- | --- | --- | \n",
    "| 1 | Rajesh Retails | Delhi | 1234567890 |\n",
    "| 2 | Appario Ltd. | Mumbai | 258963147032 | \n",
    "| 3 | Knome products | Bangalore | 9785462315 |\n",
    "| 4 | Bansal Retails | Kochi | 8975463285 |\n",
    "| 5 | Mittal Ltd. | Lucknow | 7898456532 |"
   ]
  },
  {
   "cell_type": "code",
   "execution_count": 5,
   "metadata": {
    "id": "f6dddd07"
   },
   "outputs": [],
   "source": [
    "# insert into \"supplier\" table\n",
    "mycursor.execute('''INSERT INTO supplier VALUES\n",
    "  (1, 'Rajesh Reatils', 'Delhi', '1234567890'),\n",
    "  (2, 'Appario Ltd.',   'Mumbai','25896314'),\n",
    "  (3, 'Knome products', 'Bangalore', '9785462315'),\n",
    "  (4, 'Bansal Retails', 'Kochi', '8975463285'),\n",
    "  (5, 'Mittal Ltd.', 'Lucknow', '7898456532');''')\n",
    "mydb.commit()"
   ]
  },
  {
   "cell_type": "markdown",
   "metadata": {
    "id": "e8a070a6"
   },
   "source": [
    "#### Table:  customer\n",
    "| CUS_ID | CUS_NAME | SUPP_PHONE | CUS_CITY | CUS_GENDER\n",
    "| --- | --- | --- | --- | --- |\n",
    "| 1 | AAKASH | 9999999999 | DELHI | M |\n",
    "| 2 | AMAN | 9785463215 | NOIDA | M |\n",
    "| 3 | NEHA | 9999999998 | MUMBAI | F |\n",
    "| 4 | MEGHA | 9994562399 | KOLKATA | F |\n",
    "| 5 | PULKIT | 7895999999 | LUCKNOW | M |"
   ]
  },
  {
   "cell_type": "code",
   "execution_count": 6,
   "metadata": {
    "id": "15a4ee87"
   },
   "outputs": [],
   "source": [
    "# insert into \"customer\" table\n",
    "mycursor.execute('''INSERT INTO customer VALUES\n",
    "  (1, 'AAKASH', '9999999999', 'DELH', 'M'),\n",
    "  (2, 'AMAN', '9785463215', 'NOIDA', 'M'),\n",
    "  (3, 'NEHA', '9999999998', 'MUMBAI', 'F'),\n",
    "  (4, 'MEGHA', '9994562399', 'KOLKATA', 'F'),\n",
    "  (5, 'PULKIT', '7895999999', 'LUCKNOW', 'M');\n",
    "  ''')\n",
    "mydb.commit()"
   ]
  },
  {
   "cell_type": "markdown",
   "metadata": {
    "id": "b68bfbc2"
   },
   "source": [
    "#### Table:  category\n",
    "| CAT_ID | CAT_NAME | \n",
    "| --- | --- |  \n",
    "| 1 | BOOKS |\n",
    "| 2 | GAMES |  \n",
    "| 3 | GROCERIES | \n",
    "| 4 | ELECTRONICS | \n",
    "| 5 | CLOTHES | "
   ]
  },
  {
   "cell_type": "code",
   "execution_count": 8,
   "metadata": {
    "id": "05a00abc"
   },
   "outputs": [],
   "source": [
    "# insert into \"categoty\" table\n",
    "mycursor.execute('''INSERT INTO category VALUES\n",
    "  (1, 'BOOKS'),\n",
    "  (2, 'GAMES'),\n",
    "  (3, 'GROCERIES'),\n",
    "  (4, 'ELECTRONICS'),\n",
    "  (5, 'CLOTHES');\n",
    "  ''')\n",
    "mydb.commit()"
   ]
  },
  {
   "cell_type": "markdown",
   "metadata": {
    "id": "eb3bc592"
   },
   "source": [
    "#### Table:  product\n",
    "| PRO_ID | PRO_NAME | PRO_DESC | CAT_ID |\n",
    "| --- | --- | --- | --- | \n",
    "| 1 | GTA V | DFJDJFDJFDJFDJFJF | 2 |\n",
    "| 2 | TSHIRT | DFDFJDFJDKFD | 5 | \n",
    "| 3 | ROG LAPTOP | DFNTTNTNTERND | 4 |\n",
    "| 4 | OATS | REURENTBTOTH | 3 |\n",
    "| 5 | HARRY POTTER | NBEMCTHTJTH | 1 |\n"
   ]
  },
  {
   "cell_type": "code",
   "execution_count": 10,
   "metadata": {
    "id": "cdfbdfad"
   },
   "outputs": [],
   "source": [
    "# insert into \"product\" table\n",
    "mycursor.execute('''INSERT INTO product VALUES\n",
    "  (1, 'GTA V', 'DFJDJFDJFDJFDJFJF', '2'),\n",
    "  (2, 'TSHIRT',   'DFDFJDFJDKFD','5'),\n",
    "  (3, 'ROG LAPTOP', 'DFNTTNTNTERND', '4'),\n",
    "  (4, 'OATS', 'REURENTBTOTH', '3'),\n",
    "  (5, 'HARRY POTTER', 'NBEMCTHTJTH', '1');\n",
    "  ''')\n",
    "mydb.commit()"
   ]
  },
  {
   "cell_type": "markdown",
   "metadata": {
    "id": "cfa8a47d"
   },
   "source": [
    "#### Table:  product_details\n",
    "| PROD_ID | PRO_ID | SUPP_ID | PROD_PRICE |\n",
    "| --- | --- | --- | --- | \n",
    "| 1 | 1 | 2 | 1500 |\n",
    "| 2 | 3 | 5 | 30000 | \n",
    "| 3 | 5 | 1 | 3000 |\n",
    "| 4 | 2 | 3 | 2500 |\n",
    "| 5 | 4 | 1 | 1000 |"
   ]
  },
  {
   "cell_type": "code",
   "execution_count": 11,
   "metadata": {
    "id": "c18ea964"
   },
   "outputs": [],
   "source": [
    "# insert into \"product_details\" table\n",
    "mycursor.execute('''INSERT INTO product_details VALUES\n",
    "  (1, '1', '2', '1500'),\n",
    "  (2, '3',   '5','30000'),\n",
    "  (3, '5', '1', '3000'),\n",
    "  (4, '2', '3', '2500'),\n",
    "  (5, '4', '1', '1000');\n",
    "  ''')\n",
    "mydb.commit()"
   ]
  },
  {
   "cell_type": "markdown",
   "metadata": {
    "id": "1df49086"
   },
   "source": [
    "#### Table:  orders\n",
    "| ORD_ID | ORD_AMOUNT | ORD_DATE | CUS_ID | PROD_ID\n",
    "| --- | --- | --- | --- | --- |\n",
    "| 20 | 1500 | 2021-10-12 | 3 | 5 |\n",
    "| 25 | 30500 | 2021-09-16 | 5 | 2 |\n",
    "| 26 | 2000 | 2021-10-05 | 1 | 1 |\n",
    "| 30 | 3500 | 2021-08-16 | 4 | 3 |\n",
    "| 50 | 2000 | 2021-10-06 | 2 | 1 |"
   ]
  },
  {
   "cell_type": "code",
   "execution_count": 12,
   "metadata": {
    "id": "0d97dc92"
   },
   "outputs": [],
   "source": [
    "# insert into \"orders\" table\n",
    "mycursor.execute('''INSERT INTO `order` VALUES\n",
    "  (20, '1500', '2021-10-12', '3', '5'),\n",
    "  (25, '30500',   '2021-09-16','5', '2'),\n",
    "  (26, '2000', '2021-10-05', '1', '1'),\n",
    "  (30, '3500', '2021-08-16', '4', '3'),\n",
    "  (50, '2000', '2021-10-06', '2', '1');\n",
    "  ''')\n",
    "mydb.commit()"
   ]
  },
  {
   "cell_type": "markdown",
   "metadata": {
    "id": "75b8ce5f"
   },
   "source": [
    "#### Table: rating\n",
    "| RAT_ID | CUS_ID | SUPP_ID | RAT_RATSTARS |\n",
    "| --- | --- | --- | --- | \n",
    "| 1 | 2 | 2 | 4 |\n",
    "| 2 | 3 | 4 | 3 | \n",
    "| 3 | 5 | 1 | 5 |\n",
    "| 4 | 1 | 3 | 2 |\n",
    "| 5 | 4 | 5 | 4 |"
   ]
  },
  {
   "cell_type": "code",
   "execution_count": 13,
   "metadata": {
    "id": "6d5f1e18"
   },
   "outputs": [],
   "source": [
    "# insert into \"rating\" table\n",
    "mycursor.execute('''INSERT INTO rating VALUES\n",
    "  (1, '2', '2', '4'),\n",
    "  (2, '3',   '4','3'),\n",
    "  (3, '5', '1', '5'),\n",
    "  (4, '1', '3', '2'),\n",
    "  (5, '4', '5', '4');\n",
    "  ''')\n",
    "mydb.commit()"
   ]
  },
  {
   "cell_type": "markdown",
   "metadata": {
    "id": "b59361c3"
   },
   "source": [
    "### Q3) Display the number of the customer group by their genders who have placed any order of amount greater than or equal to Rs.3000."
   ]
  },
  {
   "cell_type": "code",
   "execution_count": 16,
   "metadata": {
    "id": "fcafaf3c"
   },
   "outputs": [
    {
     "name": "stdout",
     "output_type": "stream",
     "text": [
      "('M', 3)\n",
      "('F', 2)\n"
     ]
    }
   ],
   "source": [
    "mycursor.execute(\"SELECT customer.CUS_GENDER, COUNT(customer.CUS_GENDER) FROM customer INNER JOIN `order` ON customer.CUS_ID=`order`.CUS_ID GROUP BY customer.CUS_GENDER\")\n",
    "\n",
    "myresult = mycursor.fetchall()\n",
    "\n",
    "for _ in myresult:\n",
    "  print(_)"
   ]
  },
  {
   "cell_type": "markdown",
   "metadata": {
    "id": "e49e04f5"
   },
   "source": [
    "### Q4) Display all the order along with product name ordered by a customer having Customer_Id=2;"
   ]
  },
  {
   "cell_type": "code",
   "execution_count": 18,
   "metadata": {
    "id": "9dcb7883"
   },
   "outputs": [
    {
     "name": "stdout",
     "output_type": "stream",
     "text": [
      "(50, 2000, datetime.date(2021, 10, 6), 'GTA V')\n"
     ]
    }
   ],
   "source": [
    "mycursor.execute(\"SELECT `order`.ORD_ID, `order`.ORD_AMOUNT, `order`.ORD_DATE,product.PRO_NAME FROM `order` INNER JOIN product ON product.PRO_ID=`order`.PROD_ID WHERE `order`.CUS_ID=2\")\n",
    "\n",
    "myresult = mycursor.fetchall()\n",
    "\n",
    "for _ in myresult:\n",
    "  print(_)"
   ]
  },
  {
   "cell_type": "markdown",
   "metadata": {
    "id": "3a33398e"
   },
   "source": [
    "### Q5) Display the Supplier details who can supply more than one product."
   ]
  },
  {
   "cell_type": "code",
   "execution_count": 25,
   "metadata": {
    "id": "e933b979"
   },
   "outputs": [
    {
     "name": "stdout",
     "output_type": "stream",
     "text": [
      "(1, 'Rajesh Reatils', 'Delhi', '1234567890')\n"
     ]
    }
   ],
   "source": [
    "mycursor.execute(\"SELECT * FROM supplier WHERE SUPP_ID IN (SELECT SUPP_ID FROM product_details HAVING COUNT(SUPP_ID)>1);\")\n",
    "\n",
    "myresult = mycursor.fetchall()\n",
    "\n",
    "for _ in myresult:\n",
    "  print(_)"
   ]
  },
  {
   "cell_type": "markdown",
   "metadata": {
    "id": "5fd319ef"
   },
   "source": [
    "### Q6) Find the category of the product whose order amount is minimum."
   ]
  },
  {
   "cell_type": "code",
   "execution_count": 28,
   "metadata": {
    "id": "06f5cb51"
   },
   "outputs": [
    {
     "name": "stdout",
     "output_type": "stream",
     "text": [
      "('BOOKS',)\n"
     ]
    }
   ],
   "source": [
    "mycursor.execute(\"SELECT category.CAT_NAME FROM category INNER JOIN product ON category.CAT_ID=product.CAT_ID INNER JOIN `order` ON product.PRO_ID=`order`.PROD_ID HAVING MIN(`order`.ORD_AMOUNT);\")\n",
    "\n",
    "myresult = mycursor.fetchall()\n",
    "\n",
    "for _ in myresult:\n",
    "  print(_)"
   ]
  },
  {
   "cell_type": "markdown",
   "metadata": {
    "id": "107102d4"
   },
   "source": [
    "### Q7) Display the Id and Name of the Product ordered after “2021-10-05”."
   ]
  },
  {
   "cell_type": "code",
   "execution_count": 29,
   "metadata": {
    "id": "5d3fc7e8"
   },
   "outputs": [
    {
     "name": "stdout",
     "output_type": "stream",
     "text": [
      "(5, 'HARRY POTTER')\n",
      "(1, 'GTA V')\n"
     ]
    }
   ],
   "source": [
    "mycursor.execute(\"SELECT product.PRO_ID, product.PRO_NAME FROM product INNER JOIN `order` ON product.PRO_ID=`order`.PROD_ID WHERE `order`.ORD_DATE>'2021-10-05';\")\n",
    "\n",
    "myresult = mycursor.fetchall()\n",
    "\n",
    "for _ in myresult:\n",
    "  print(_)"
   ]
  },
  {
   "cell_type": "markdown",
   "metadata": {
    "id": "bdce7167"
   },
   "source": [
    "### Q8) Print the top 3 supplier name and id and rating on the basis of their rating along with the customer name who has given the rating."
   ]
  },
  {
   "cell_type": "code",
   "execution_count": null,
   "metadata": {
    "id": "fa0cbe44"
   },
   "outputs": [],
   "source": []
  },
  {
   "cell_type": "markdown",
   "metadata": {
    "id": "346ec2a1"
   },
   "source": [
    "### Q9) Display customer name and gender whose names start or end with character 'A'."
   ]
  },
  {
   "cell_type": "code",
   "execution_count": 30,
   "metadata": {
    "id": "e571b5fd"
   },
   "outputs": [
    {
     "name": "stdout",
     "output_type": "stream",
     "text": [
      "('AAKASH', 'M')\n",
      "('AMAN', 'M')\n"
     ]
    }
   ],
   "source": [
    "mycursor.execute(\"SELECT CUS_NAME, CUS_GENDER FROM customer WHERE CUS_NAME LIKE 'A%';\")\n",
    "\n",
    "myresult = mycursor.fetchall()\n",
    "\n",
    "for _ in myresult:\n",
    "  print(_)"
   ]
  },
  {
   "cell_type": "markdown",
   "metadata": {
    "id": "d0b01f77"
   },
   "source": [
    "### Q10) Display the total order amount of the male customers."
   ]
  },
  {
   "cell_type": "code",
   "execution_count": 32,
   "metadata": {
    "id": "c3fa76e3"
   },
   "outputs": [
    {
     "name": "stdout",
     "output_type": "stream",
     "text": [
      "(Decimal('34500'),)\n"
     ]
    }
   ],
   "source": [
    "mycursor.execute(\"SELECT SUM(`order`.ORD_AMOUNT) FROM `order` INNER JOIN customer ON `order`.CUS_ID=customer.CUS_ID WHERE customer.CUS_GENDER='M';\")\n",
    "\n",
    "myresult = mycursor.fetchall()\n",
    "\n",
    "for _ in myresult:\n",
    "  print(_)"
   ]
  },
  {
   "cell_type": "markdown",
   "metadata": {
    "id": "ff8a9971"
   },
   "source": [
    "### Q11) Display all the Customers left outer join with  the orders"
   ]
  },
  {
   "cell_type": "code",
   "execution_count": 33,
   "metadata": {
    "id": "a340c6d6"
   },
   "outputs": [],
   "source": [
    "mydb.close()"
   ]
  },
  {
   "cell_type": "markdown",
   "metadata": {
    "id": "0a72afe3"
   },
   "source": [
    "**NOTE:** Always close an open connection once you are done with the database operations"
   ]
  },
  {
   "cell_type": "markdown",
   "metadata": {
    "id": "8c88f479"
   },
   "source": [
    "## Happy Learning:)"
   ]
  }
 ],
 "metadata": {
  "colab": {
   "name": "Lab Session  -  E-Commerce.ipynb",
   "provenance": []
  },
  "kernelspec": {
   "display_name": "Python 3",
   "language": "python",
   "name": "python3"
  },
  "language_info": {
   "codemirror_mode": {
    "name": "ipython",
    "version": 3
   },
   "file_extension": ".py",
   "mimetype": "text/x-python",
   "name": "python",
   "nbconvert_exporter": "python",
   "pygments_lexer": "ipython3",
   "version": "3.7.6"
  }
 },
 "nbformat": 4,
 "nbformat_minor": 5
}
